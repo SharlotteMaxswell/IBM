{
 "cells": [
  {
   "cell_type": "markdown",
   "id": "629bf9e9-b04c-4ab2-88c2-10b5ce00cf36",
   "metadata": {},
   "source": [
    "<h1>Data Science Tools and Ecosystem</h1>"
   ]
  },
  {
   "cell_type": "markdown",
   "id": "1d0aeefa-1d16-4926-9ac0-8b643fb4d649",
   "metadata": {},
   "source": [
    "<h1>Data Science Tools and Ecosystem</h1>"
   ]
  },
  {
   "cell_type": "markdown",
   "id": "71d05cb4-f15c-4bba-9c76-31f931e9836e",
   "metadata": {},
   "source": [
    "In this notebook, Data Science Tools and Ecosystem are summarized."
   ]
  },
  {
   "cell_type": "markdown",
   "id": "707ad8cd-d309-41f6-9b82-21b5a1a808ff",
   "metadata": {},
   "source": [
    "<strong>Objectives:</strong>\n",
    "<ul>\n",
    "<li>Popular Data Science Languages</li>\n",
    "<li>Popular Data Science Tools</li>\n",
    "<li>Common Libraries</li>\n",
    "</ul>\n"
   ]
  },
  {
   "cell_type": "markdown",
   "id": "e6028c8c-8fe7-4157-a8df-b7a34f644834",
   "metadata": {},
   "source": [
    "<strong>Objectives:</strong>\n",
    "<ul>\n",
    "<li>Popular Data Science Languages</li>\n",
    "<li>Popular Data Science Tools</li>\n",
    "<li>Common Libraries</li>\n",
    "</ul>\n"
   ]
  },
  {
   "cell_type": "markdown",
   "id": "a7fb18d7-ac22-4f8d-a7c2-7ba35ee75372",
   "metadata": {},
   "source": [
    "In this notebook, Data Science Tools and Ecosystem are summarized."
   ]
  },
  {
   "cell_type": "markdown",
   "id": "3dac7b66-139d-4f87-9a83-0d0e8eb775e3",
   "metadata": {
    "tags": []
   },
   "source": [
    "Some of the popular languages that Data Scientists use are:\n",
    "1. Python\n",
    "2. R\n",
    "3. SQL"
   ]
  },
  {
   "cell_type": "markdown",
   "id": "36db7c86-2bc6-41ea-ab37-1f8a14784c47",
   "metadata": {},
   "source": [
    "Some of the popular languages that Data Scientists use are:\n",
    "1. Python\n",
    "2. R\n",
    "3. SQL"
   ]
  },
  {
   "cell_type": "markdown",
   "id": "6ce97ae7-8b13-485e-93f2-140cfa5b1832",
   "metadata": {},
   "source": [
    "Some of the commonly used libraries used by Data Scientists include:\n",
    "1. Pandas\n",
    "2. NumPy\n",
    "3. SciPy"
   ]
  },
  {
   "cell_type": "markdown",
   "id": "8a559529-1173-41d0-8b6e-1c10a160fc9c",
   "metadata": {},
   "source": [
    "Some of the commonly used libraries used by Data Scientists include:\n",
    "1. Pandas\n",
    "2. NumPy\n",
    "3. SciPy"
   ]
  },
  {
   "cell_type": "markdown",
   "id": "998e3361-2447-4253-90a3-66b1c3a86a06",
   "metadata": {},
   "source": [
    "<table>\n",
    "<tr>\n",
    "    <th>Data Science Tools</th>\n",
    "    </tr>\n",
    "<tr>\n",
    "    <td>R Studio</td>\n",
    "    </tr>\n",
    "<tr>\n",
    "    <td>Apache Spark</td>\n",
    "    </tr>\n",
    "<tr>\n",
    "    <td>Jupyter Notebooks</td>\n",
    "    </tr>\n",
    "</table>"
   ]
  },
  {
   "cell_type": "markdown",
   "id": "8e0307ab-9f2b-4445-98a1-6f558f9c2296",
   "metadata": {},
   "source": [
    "<table>\n",
    "<tr>\n",
    "    <th>Data Science Tools</th>\n",
    "    </tr>\n",
    "<tr>\n",
    "    <td>R Studio</td>\n",
    "    </tr>\n",
    "<tr>\n",
    "    <td>Apache Spark</td>\n",
    "    </tr>\n",
    "<tr>\n",
    "    <td>Jupyter Notebooks</td>\n",
    "    </tr>\n",
    "</table>"
   ]
  },
  {
   "cell_type": "markdown",
   "id": "24bfad8e-97c5-496e-b893-c6b668a97d2c",
   "metadata": {},
   "source": [
    "<h3>Below are a few examples of evaluating arithmetic expressions in Python.\n",
    "</h3>"
   ]
  },
  {
   "cell_type": "markdown",
   "id": "d6dffa4f-3a8b-4c4e-ab34-a05992570730",
   "metadata": {},
   "source": [
    "<h3>Below are a few examples of evaluating arithmetic expressions in Python.\n",
    "</h3>"
   ]
  },
  {
   "cell_type": "code",
   "execution_count": 1,
   "id": "bd9fd512-6391-4248-a58d-a67f4f52d8d6",
   "metadata": {
    "tags": []
   },
   "outputs": [
    {
     "data": {
      "text/plain": [
       "17"
      ]
     },
     "execution_count": 1,
     "metadata": {},
     "output_type": "execute_result"
    }
   ],
   "source": [
    "#This is a simple arithmetic expression to multiply then add integers\n",
    "\n",
    "(3*4)+5\n"
   ]
  },
  {
   "cell_type": "code",
   "execution_count": 3,
   "id": "d0b2edc2-766a-4000-8080-d1e6b1553ae7",
   "metadata": {
    "tags": []
   },
   "outputs": [
    {
     "data": {
      "text/plain": [
       "3.3333333333333335"
      ]
     },
     "execution_count": 3,
     "metadata": {},
     "output_type": "execute_result"
    }
   ],
   "source": [
    "#This will convert 200 minutes to hours by diving by 60.\n",
    "\n",
    "minutes = 200\n",
    "hours = minutes/60\n",
    "hours"
   ]
  },
  {
   "cell_type": "code",
   "execution_count": null,
   "id": "7e24bafa-0c94-498a-99d7-2b0943ea9eaa",
   "metadata": {},
   "outputs": [],
   "source": []
  }
 ],
 "metadata": {
  "kernelspec": {
   "display_name": "Python",
   "language": "python",
   "name": "conda-env-python-py"
  },
  "language_info": {
   "codemirror_mode": {
    "name": "ipython",
    "version": 3
   },
   "file_extension": ".py",
   "mimetype": "text/x-python",
   "name": "python",
   "nbconvert_exporter": "python",
   "pygments_lexer": "ipython3",
   "version": "3.7.12"
  }
 },
 "nbformat": 4,
 "nbformat_minor": 5
}
